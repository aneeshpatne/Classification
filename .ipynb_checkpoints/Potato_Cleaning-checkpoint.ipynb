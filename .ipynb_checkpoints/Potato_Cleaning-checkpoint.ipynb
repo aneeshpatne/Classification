{
 "cells": [
  {
   "cell_type": "code",
   "execution_count": null,
   "id": "b60320b8-c5f8-4ade-a1ec-180a22c2645f",
   "metadata": {},
   "outputs": [],
   "source": []
  }
 ],
 "metadata": {
  "kernelspec": {
   "display_name": "Python 3 (ipykernel)",
   "language": "python",
   "name": "python3"
  },
  "language_info": {
   "codemirror_mode": {
    "name": "ipython",
    "version": 3
   },
   "file_extension": ".py",
   "mimetype": "text/x-python",
   "name": "python",
   "nbconvert_exporter": "python",
   "pygments_lexer": "ipython3",
   "version": "3.12.0"
  }
 },
 "nbformat": 4,
 "nbformat_minor": 5
}
